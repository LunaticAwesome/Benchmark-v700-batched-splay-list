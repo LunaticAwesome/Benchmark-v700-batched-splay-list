{
 "cells": [
  {
   "cell_type": "code",
   "execution_count": 9,
   "metadata": {},
   "outputs": [
    {
     "ename": "ModuleNotFoundError",
     "evalue": "No module named 'matplotlib'",
     "output_type": "error",
     "traceback": [
      "\u001b[0;31m---------------------------------------------------------------------------\u001b[0m",
      "\u001b[0;31mModuleNotFoundError\u001b[0m                       Traceback (most recent call last)",
      "\u001b[0;32m<ipython-input-9-3c799e944649>\u001b[0m in \u001b[0;36m<module>\u001b[0;34m\u001b[0m\n\u001b[1;32m      1\u001b[0m \u001b[0;32mimport\u001b[0m \u001b[0mjson\u001b[0m\u001b[0;34m\u001b[0m\u001b[0;34m\u001b[0m\u001b[0m\n\u001b[1;32m      2\u001b[0m \u001b[0;32mimport\u001b[0m \u001b[0mos\u001b[0m\u001b[0;34m\u001b[0m\u001b[0;34m\u001b[0m\u001b[0m\n\u001b[0;32m----> 3\u001b[0;31m \u001b[0;32mimport\u001b[0m \u001b[0mmatplotlib\u001b[0m\u001b[0;34m.\u001b[0m\u001b[0mpyplot\u001b[0m \u001b[0;32mas\u001b[0m \u001b[0mplt\u001b[0m\u001b[0;34m\u001b[0m\u001b[0;34m\u001b[0m\u001b[0m\n\u001b[0m\u001b[1;32m      4\u001b[0m \u001b[0;32mimport\u001b[0m \u001b[0mre\u001b[0m\u001b[0;34m\u001b[0m\u001b[0;34m\u001b[0m\u001b[0m\n\u001b[1;32m      5\u001b[0m \u001b[0;32mfrom\u001b[0m \u001b[0mcollections\u001b[0m \u001b[0;32mimport\u001b[0m \u001b[0mdefaultdict\u001b[0m\u001b[0;34m\u001b[0m\u001b[0;34m\u001b[0m\u001b[0m\n",
      "\u001b[0;31mModuleNotFoundError\u001b[0m: No module named 'matplotlib'"
     ]
    }
   ],
   "source": [
    "import json\n",
    "import os\n",
    "import matplotlib.pyplot as plt\n",
    "import re\n",
    "from collections import defaultdict\n",
    "\n",
    "# Configuration\n",
    "folder_path = \"averaged_results\"  # Replace with your folder path\n",
    "pattern = re.compile(r\"(.*)_numThreads_(\\d+)_average\\.json\")  # Regex to parse filenames\n",
    "\n",
    "# Data structure: {prefix: {thread_count: average_ops}}\n",
    "data = defaultdict(dict)\n",
    "\n",
    "# Read all JSON files\n",
    "for filename in os.listdir(folder_path):\n",
    "    if filename.endswith(\".json\"):\n",
    "        match = pattern.match(filename)\n",
    "        if match:\n",
    "            prefix = match.group(1)  # Full prefix (e.g., \"aksenov_splaylist_64.debra_zipfian\")\n",
    "            num_threads = int(match.group(2))  # Thread count\n",
    "            file_path = os.path.join(folder_path, filename)\n",
    "            \n",
    "            # Load data\n",
    "            with open(file_path, 'r') as f:\n",
    "                json_data = json.load(f)\n",
    "                data[prefix][num_threads] = json_data[\"average_num_operations_total\"]\n",
    "\n",
    "# Generate one graph per prefix\n",
    "for prefix, thread_data in data.items():\n",
    "    # Sort thread counts and extract values\n",
    "    sorted_threads = sorted(thread_data.keys())\n",
    "    avg_ops = [thread_data[t] for t in sorted_threads]\n",
    "    \n",
    "    # Create a new figure\n",
    "    plt.figure(figsize=(10, 6))\n",
    "    plt.plot(\n",
    "        sorted_threads,\n",
    "        avg_ops,\n",
    "        marker='o',\n",
    "        linestyle='-',\n",
    "        color='blue',\n",
    "        markersize=8,\n",
    "        linewidth=2\n",
    "    )\n",
    "    \n",
    "    # Customize title and labels (shorten prefix for readability if needed)\n",
    "    short_prefix = prefix.split(\"_\")[-1]  # Example: \"zipfian\" from \"aksenov_..._zipfian\"\n",
    "    plt.xlabel(\"Number of Threads\", fontsize=12)\n",
    "    plt.ylabel(\"Average Total Operations\", fontsize=12)\n",
    "    plt.title(f\"Throughput Scaling: {short_prefix}\", fontsize=14)\n",
    "    plt.grid(True, linestyle='--', alpha=0.7)\n",
    "    plt.xticks(range(1, 17))  # Show all thread counts 1-16\n",
    "    \n",
    "    # Optional: Save the figure (uncomment line below)\n",
    "    # plt.savefig(f\"{short_prefix}_throughput.png\", dpi=300, bbox_inches='tight')\n",
    "    \n",
    "    plt.tight_layout()\n",
    "    plt.show()\n"
   ]
  }
 ],
 "metadata": {
  "kernelspec": {
   "display_name": "Python 3",
   "language": "python",
   "name": "python3"
  },
  "language_info": {
   "codemirror_mode": {
    "name": "ipython",
    "version": 3
   },
   "file_extension": ".py",
   "mimetype": "text/x-python",
   "name": "python",
   "nbconvert_exporter": "python",
   "pygments_lexer": "ipython3",
   "version": "3.8.10"
  }
 },
 "nbformat": 4,
 "nbformat_minor": 2
}
